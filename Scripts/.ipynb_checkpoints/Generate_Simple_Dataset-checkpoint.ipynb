{
 "cells": [
  {
   "cell_type": "code",
   "execution_count": 255,
   "metadata": {},
   "outputs": [],
   "source": [
    "import numpy as np\n",
    "import matplotlib.pyplot as plt\n",
    "from math import pi, cos, sin\n",
    "from matplotlib.figure import Figure\n",
    "from matplotlib.backends.backend_agg import FigureCanvasAgg"
   ]
  },
  {
   "cell_type": "code",
   "execution_count": 280,
   "metadata": {},
   "outputs": [],
   "source": [
    "def draw_ellipse(center=(100, 10), radii=(20, 20), t_rot=pi/4, \n",
    "                 grid=1000, boundary=(100, 100), background=0, foreground=1):\n",
    "    \n",
    "    # grid is how precise the ellipse would be : larger the better\n",
    "\n",
    "    # u, v: x, y-position of the center\n",
    "    u, v = center \n",
    "    \n",
    "    # a, b: radius on the x, y-axis\n",
    "    a, b = radii\n",
    "    \n",
    "    # x, y: the bounding box x, y-axis\n",
    "    x, y = boundary\n",
    "    \n",
    "    # t_rot: rotational angle, in radians\n",
    "\n",
    "    t = np.linspace(0, 2*pi, grid)\n",
    "    \n",
    "    Ell = np.array([a*np.cos(t) , b*np.sin(t)])  \n",
    "         #u,v removed to keep the same center location\n",
    "    \n",
    "    R_rot = np.array([[cos(t_rot) , -sin(t_rot)],[sin(t_rot) , cos(t_rot)]])  \n",
    "         #2-D rotation matrix\n",
    "\n",
    "    Ell_rot = np.zeros((2,Ell.shape[1]))\n",
    "    for i in range(Ell.shape[1]):\n",
    "        Ell_rot[:,i] = np.dot(R_rot,Ell[:,i])\n",
    "        \n",
    "    overall_image = np.ones((x, y)) * background\n",
    "    \n",
    "    \n",
    "    for points in range(len(Ell_rot[0,:])):\n",
    "        x_coord = int(round(Ell_rot[0,:][points] + u))\n",
    "        y_coord = int(round(Ell_rot[1,:][points] + v))\n",
    "        if x_coord < x and y_coord < y and x_coord >= 0 and y_coord >= 0:\n",
    "            overall_image[x_coord][y_coord] = foreground\n",
    "        \n",
    "    return overall_image"
   ]
  },
  {
   "cell_type": "code",
   "execution_count": 281,
   "metadata": {},
   "outputs": [
    {
     "data": {
      "text/plain": [
       "<matplotlib.image.AxesImage at 0x7f12d8a6b898>"
      ]
     },
     "execution_count": 281,
     "metadata": {},
     "output_type": "execute_result"
    },
    {
     "data": {
      "image/png": "[encoded data removed]",
      "text/plain": [
       "<Figure size 288x288 with 1 Axes>"
      ]
     },
     "metadata": {
      "needs_background": "light"
     },
     "output_type": "display_data"
    }
   ],
   "source": [
    "c = draw_ellipse((50, 50))\n",
    "plt.matshow(c)"
   ]
  },
  {
   "cell_type": "code",
   "execution_count": 282,
   "metadata": {},
   "outputs": [],
   "source": [
    "def draw_rectangle(center=(100, 10), length=(30, 20), t_rot=pi/4, grid=1000, boundary=(100, 100)):\n",
    "    \n",
    "    # grid is how precise the ellipse would be : larger the better\n",
    "\n",
    "    # u, v: x, y-position of the center\n",
    "    u, v = center \n",
    "    \n",
    "    # a, b: length on the x, y-axis\n",
    "    a, b = length\n",
    "    \n",
    "    # x, y: the bounding box x, y-axis\n",
    "    x, y = boundary\n",
    "    \n",
    "    # t_rot: rotational angle, in radians\n",
    "\n",
    "    t = np.ones(grid)\n",
    "    t1 = np.linspace(-1, 1, grid)\n",
    "    \n",
    "    \n",
    "    Ell = np.concatenate([np.array([a*t1 , b*t]), np.array([a*t , -1*b*t1]), np.array([-1*a*t , b*t1]), np.array([-1*a*t1 , -1*b*t])], axis=1)\n",
    "         #u,v removed to keep the same center location\n",
    "    \n",
    "    R_rot = np.array([[cos(t_rot) , -sin(t_rot)],[sin(t_rot) , cos(t_rot)]])  \n",
    "         #2-D rotation matrix\n",
    "\n",
    "    Ell_rot = np.zeros((2,Ell.shape[1]))\n",
    "    for i in range(Ell.shape[1]):\n",
    "        Ell_rot[:,i] = np.dot(R_rot,Ell[:,i])\n",
    "        \n",
    "    overall_image = np.zeros((x, y))\n",
    "    \n",
    "    \n",
    "    for points in range(len(Ell_rot[0,:])):\n",
    "        x_coord = int(round(Ell_rot[0,:][points] + u))\n",
    "        y_coord = int(round(Ell_rot[1,:][points] + v))\n",
    "        if x_coord < x and y_coord < y and x_coord >= 0 and y_coord >= 0:\n",
    "            overall_image[x_coord][y_coord] = 1\n",
    "        \n",
    "    return overall_image"
   ]
  },
  {
   "cell_type": "code",
   "execution_count": 283,
   "metadata": {},
   "outputs": [
    {
     "data": {
      "text/plain": [
       "<matplotlib.image.AxesImage at 0x7f12d894b2e8>"
      ]
     },
     "execution_count": 283,
     "metadata": {},
     "output_type": "execute_result"
    },
    {
     "data": {
      "image/png": "[encoded data removed]",
      "text/plain": [
       "<Figure size 288x288 with 1 Axes>"
      ]
     },
     "metadata": {
      "needs_background": "light"
     },
     "output_type": "display_data"
    }
   ],
   "source": [
    "c = draw_rectangle((30, 50))\n",
    "plt.matshow(c)"
   ]
  },
  {
   "cell_type": "code",
   "execution_count": null,
   "metadata": {},
   "outputs": [],
   "source": [
    "def generate_random_ellipses(num_samples, foreground=1e-5, background=2, \n",
    "                             image_size=(100, 100), largest_center=31, largest_radii=31):\n",
    "    image_list = []\n",
    "    rand_centers = np.random.randint(1, largest_center, size=(num_samples, 2))\n",
    "    rand_radii = np.random.randint(1, largest_radii, size=(num_samples, 2))\n",
    "    rand_rot = np.random.rand((num_samples)) * 2*pi\n",
    "    for i in range(num_samples):\n",
    "        image_list.append(draw_ellipse(center = rand_centers[i], \n",
    "                                       radii = rand_radii[i], t_rot = rand_rot[i], boundary = image_size))\n",
    "        "
   ]
  }
 ],
 "metadata": {
  "kernelspec": {
   "display_name": "Python 3",
   "language": "python",
   "name": "python3"
  },
  "language_info": {
   "codemirror_mode": {
    "name": "ipython",
    "version": 3
   },
   "file_extension": ".py",
   "mimetype": "text/x-python",
   "name": "python",
   "nbconvert_exporter": "python",
   "pygments_lexer": "ipython3",
   "version": "3.5.2"
  }
 },
 "nbformat": 4,
 "nbformat_minor": 2
}
