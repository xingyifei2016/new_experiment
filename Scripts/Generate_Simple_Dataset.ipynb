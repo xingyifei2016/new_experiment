{
 "cells": [
  {
   "cell_type": "code",
   "execution_count": 3,
   "metadata": {},
   "outputs": [],
   "source": [
    "import numpy as np\n",
    "import matplotlib.pyplot as plt\n",
    "from math import pi, cos, sin\n",
    "from matplotlib.figure import Figure\n",
    "from matplotlib.backends.backend_agg import FigureCanvasAgg"
   ]
  },
  {
   "cell_type": "code",
   "execution_count": 2,
   "metadata": {},
   "outputs": [],
   "source": [
    "def draw_ellipse(center=(100, 10), radii=(20, 20), t_rot=pi/4, \n",
    "                 grid=1000, boundary=(100, 100), background=0, foreground=1):\n",
    "    \n",
    "    # grid is how precise the ellipse would be : larger the better\n",
    "\n",
    "    # u, v: x, y-position of the center\n",
    "    u, v = center \n",
    "    \n",
    "    # a, b: radius on the x, y-axis\n",
    "    a, b = radii\n",
    "    \n",
    "    # x, y: the bounding box x, y-axis\n",
    "    x, y = boundary\n",
    "    \n",
    "    # t_rot: rotational angle, in radians\n",
    "\n",
    "    t = np.linspace(0, 2*pi, grid)\n",
    "    \n",
    "    Ell = np.array([a*np.cos(t) , b*np.sin(t)])  \n",
    "         #u,v removed to keep the same center location\n",
    "    \n",
    "    R_rot = np.array([[cos(t_rot) , -sin(t_rot)],[sin(t_rot) , cos(t_rot)]])  \n",
    "         #2-D rotation matrix\n",
    "\n",
    "    Ell_rot = np.zeros((2,Ell.shape[1]))\n",
    "    for i in range(Ell.shape[1]):\n",
    "        Ell_rot[:,i] = np.dot(R_rot,Ell[:,i])\n",
    "        \n",
    "    overall_image = np.ones((x, y)) * background\n",
    "    \n",
    "    \n",
    "    for points in range(len(Ell_rot[0,:])):\n",
    "        x_coord = int(round(Ell_rot[0,:][points] + u))\n",
    "        y_coord = int(round(Ell_rot[1,:][points] + v))\n",
    "        if x_coord < x and y_coord < y and x_coord >= 0 and y_coord >= 0:\n",
    "            overall_image[x_coord][y_coord] = foreground\n",
    "        \n",
    "    return overall_image"
   ]
  },
  {
   "cell_type": "code",
   "execution_count": 3,
   "metadata": {},
   "outputs": [
    {
     "data": {
      "text/plain": [
       "<matplotlib.image.AxesImage at 0x7efbd21ac748>"
      ]
     },
     "execution_count": 3,
     "metadata": {},
     "output_type": "execute_result"
    },
    {
     "data": {
      "image/png": "[encoded data removed]",
      "text/plain": [
       "<Figure size 288x288 with 1 Axes>"
      ]
     },
     "metadata": {
      "needs_background": "light"
     },
     "output_type": "display_data"
    }
   ],
   "source": [
    "c = draw_ellipse((50, 50))\n",
    "plt.matshow(c)"
   ]
  },
  {
   "cell_type": "code",
   "execution_count": 4,
   "metadata": {},
   "outputs": [],
   "source": [
    "def draw_rectangle(center=(100, 10), length=(30, 20), t_rot=pi/4, \n",
    "                   grid=1000, boundary=(100, 100) , background=0, foreground=1):\n",
    "    \n",
    "    # grid is how precise the ellipse would be : larger the better\n",
    "\n",
    "    # u, v: x, y-position of the center\n",
    "    u, v = center \n",
    "    \n",
    "    # a, b: length on the x, y-axis\n",
    "    a, b = length\n",
    "    \n",
    "    # x, y: the bounding box x, y-axis\n",
    "    x, y = boundary\n",
    "    \n",
    "    # t_rot: rotational angle, in radians\n",
    "\n",
    "    t = np.ones(grid)\n",
    "    t1 = np.linspace(-1, 1, grid)\n",
    "    \n",
    "    \n",
    "    Ell = np.concatenate([np.array([a*t1 , b*t]), np.array([a*t , -1*b*t1]), np.array([-1*a*t , b*t1]), np.array([-1*a*t1 , -1*b*t])], axis=1)\n",
    "         #u,v removed to keep the same center location\n",
    "    \n",
    "    R_rot = np.array([[cos(t_rot) , -sin(t_rot)],[sin(t_rot) , cos(t_rot)]])  \n",
    "         #2-D rotation matrix\n",
    "\n",
    "    Ell_rot = np.zeros((2,Ell.shape[1]))\n",
    "    for i in range(Ell.shape[1]):\n",
    "        Ell_rot[:,i] = np.dot(R_rot,Ell[:,i])\n",
    "        \n",
    "    overall_image = np.ones((x, y)) * background\n",
    "    \n",
    "    \n",
    "    for points in range(len(Ell_rot[0,:])):\n",
    "        x_coord = int(round(Ell_rot[0,:][points] + u))\n",
    "        y_coord = int(round(Ell_rot[1,:][points] + v))\n",
    "        if x_coord < x and y_coord < y and x_coord >= 0 and y_coord >= 0:\n",
    "            overall_image[x_coord][y_coord] = foreground\n",
    "        \n",
    "    return overall_image"
   ]
  },
  {
   "cell_type": "code",
   "execution_count": 5,
   "metadata": {},
   "outputs": [
    {
     "data": {
      "text/plain": [
       "<matplotlib.image.AxesImage at 0x7efbd21162b0>"
      ]
     },
     "execution_count": 5,
     "metadata": {},
     "output_type": "execute_result"
    },
    {
     "data": {
      "image/png": "[encoded data removed]",
      "text/plain": [
       "<Figure size 288x288 with 1 Axes>"
      ]
     },
     "metadata": {
      "needs_background": "light"
     },
     "output_type": "display_data"
    }
   ],
   "source": [
    "c = draw_rectangle((30, 50))\n",
    "plt.matshow(c)"
   ]
  },
  {
   "cell_type": "code",
   "execution_count": 6,
   "metadata": {},
   "outputs": [],
   "source": [
    "def generate_random_ellipses(num_samples, foreground=2, background=1e-5, magnitude=1,\n",
    "                             \n",
    "                             image_size=(22, 22), largest_center=22, largest_radii=11):\n",
    "    image_list = []\n",
    "    rand_centers = np.random.randint(1, largest_center, size=(num_samples, 2))\n",
    "    rand_radii = np.random.randint(1, largest_radii, size=(num_samples, 2))\n",
    "    rand_rot = np.random.rand((num_samples)) * 2*pi\n",
    "    for i in range(num_samples):\n",
    "        image_list.append(draw_ellipse(center = rand_centers[i], \n",
    "                                       radii = rand_radii[i], t_rot = rand_rot[i], \n",
    "                                       boundary = image_size, foreground = foreground, background = background))\n",
    "        if (10 * i) % num_samples == 0:\n",
    "            print(str(i / num_samples) + \" percent finished\")\n",
    "    images = np.array(image_list)\n",
    "    images = np.expand_dims(images, axis=1)\n",
    "    magnitudes = np.ones(images.shape) * magnitude\n",
    "    return np.concatenate((magnitudes, images), axis=1)\n",
    "    \n",
    "    \n",
    "    \n",
    "        "
   ]
  },
  {
   "cell_type": "code",
   "execution_count": 7,
   "metadata": {},
   "outputs": [],
   "source": [
    "def generate_random_rectangles(num_samples, foreground=2, background=1e-5, magnitude=1,\n",
    "                             \n",
    "                             image_size=(22, 22), largest_center=22, largest_radii=11):\n",
    "    image_list = []\n",
    "    rand_centers = np.random.randint(1, largest_center, size=(num_samples, 2))\n",
    "    rand_radii = np.random.randint(1, largest_radii, size=(num_samples, 2))\n",
    "    rand_rot = np.random.rand((num_samples)) * 2*pi\n",
    "    for i in range(num_samples):\n",
    "        image_list.append(draw_rectangle(center = rand_centers[i], \n",
    "                                       length = rand_radii[i], t_rot = rand_rot[i], \n",
    "                                       boundary = image_size, foreground = foreground, background = background))\n",
    "        if (10 * i) % num_samples == 0:\n",
    "            print(str(i / num_samples) + \" percent finished\")\n",
    "    images = np.array(image_list)\n",
    "    images = np.expand_dims(images, axis=1)\n",
    "    magnitudes = np.ones(images.shape) * magnitude\n",
    "    return np.concatenate((magnitudes, images), axis=1)\n",
    "    "
   ]
  },
  {
   "cell_type": "code",
   "execution_count": 8,
   "metadata": {},
   "outputs": [
    {
     "name": "stdout",
     "output_type": "stream",
     "text": [
      "0.0 percent finished\n",
      "0.1 percent finished\n",
      "0.2 percent finished\n",
      "0.3 percent finished\n",
      "0.4 percent finished\n",
      "0.5 percent finished\n",
      "0.6 percent finished\n",
      "0.7 percent finished\n",
      "0.8 percent finished\n",
      "0.9 percent finished\n"
     ]
    },
    {
     "data": {
      "image/png": "[encoded data removed]",
      "text/plain": [
       "<Figure size 288x288 with 1 Axes>"
      ]
     },
     "metadata": {
      "needs_background": "light"
     },
     "output_type": "display_data"
    },
    {
     "data": {
      "image/png": "[encoded data removed]",
      "text/plain": [
       "<Figure size 288x288 with 1 Axes>"
      ]
     },
     "metadata": {
      "needs_background": "light"
     },
     "output_type": "display_data"
    },
    {
     "data": {
      "image/png": "[encoded data removed]",
      "text/plain": [
       "<Figure size 288x288 with 1 Axes>"
      ]
     },
     "metadata": {
      "needs_background": "light"
     },
     "output_type": "display_data"
    },
    {
     "data": {
      "image/png": "[encoded data removed]",
      "text/plain": [
       "<Figure size 288x288 with 1 Axes>"
      ]
     },
     "metadata": {
      "needs_background": "light"
     },
     "output_type": "display_data"
    },
    {
     "data": {
      "image/png": "[encoded data removed]",
      "text/plain": [
       "<Figure size 288x288 with 1 Axes>"
      ]
     },
     "metadata": {
      "needs_background": "light"
     },
     "output_type": "display_data"
    },
    {
     "data": {
      "image/png": "[encoded data removed]",
      "text/plain": [
       "<Figure size 288x288 with 1 Axes>"
      ]
     },
     "metadata": {
      "needs_background": "light"
     },
     "output_type": "display_data"
    },
    {
     "data": {
      "image/png": "[encoded data removed]",
      "text/plain": [
       "<Figure size 288x288 with 1 Axes>"
      ]
     },
     "metadata": {
      "needs_background": "light"
     },
     "output_type": "display_data"
    },
    {
     "data": {
      "image/png": "[encoded data removed]",
      "text/plain": [
       "<Figure size 288x288 with 1 Axes>"
      ]
     },
     "metadata": {
      "needs_background": "light"
     },
     "output_type": "display_data"
    },
    {
     "data": {
      "image/png": "[encoded data removed]",
      "text/plain": [
       "<Figure size 288x288 with 1 Axes>"
      ]
     },
     "metadata": {
      "needs_background": "light"
     },
     "output_type": "display_data"
    },
    {
     "data": {
      "image/png": "[encoded data removed]",
      "text/plain": [
       "<Figure size 288x288 with 1 Axes>"
      ]
     },
     "metadata": {
      "needs_background": "light"
     },
     "output_type": "display_data"
    }
   ],
   "source": [
    "aa=generate_random_ellipses(10)\n",
    "for i in range(len(aa)):\n",
    "    plt.matshow(aa[i, 1, ...])"
   ]
  },
  {
   "cell_type": "code",
   "execution_count": null,
   "metadata": {},
   "outputs": [],
   "source": [
    "# Use filled disk/rectangles (No rotation) (background noise, independent gaussian noise in x,y channel) \n",
    "# signal: magnitude ~ 1 vs 0.1\n",
    "\n",
    "# Radius start from 5 - 10, image size 25\n",
    "\n",
    "# Try out\n",
    "\n",
    "# angle is more indicative in high dimensional space"
   ]
  },
  {
   "cell_type": "code",
   "execution_count": 9,
   "metadata": {},
   "outputs": [
    {
     "name": "stdout",
     "output_type": "stream",
     "text": [
      "0.0 percent finished\n",
      "0.1 percent finished\n",
      "0.2 percent finished\n",
      "0.3 percent finished\n",
      "0.4 percent finished\n",
      "0.5 percent finished\n",
      "0.6 percent finished\n",
      "0.7 percent finished\n",
      "0.8 percent finished\n",
      "0.9 percent finished\n"
     ]
    },
    {
     "data": {
      "image/png": "[encoded data removed]",
      "text/plain": [
       "<Figure size 288x288 with 1 Axes>"
      ]
     },
     "metadata": {
      "needs_background": "light"
     },
     "output_type": "display_data"
    },
    {
     "data": {
      "image/png": "[encoded data removed]",
      "text/plain": [
       "<Figure size 288x288 with 1 Axes>"
      ]
     },
     "metadata": {
      "needs_background": "light"
     },
     "output_type": "display_data"
    },
    {
     "data": {
      "image/png": "[encoded data removed]",
      "text/plain": [
       "<Figure size 288x288 with 1 Axes>"
      ]
     },
     "metadata": {
      "needs_background": "light"
     },
     "output_type": "display_data"
    },
    {
     "data": {
      "image/png": "[encoded data removed]",
      "text/plain": [
       "<Figure size 288x288 with 1 Axes>"
      ]
     },
     "metadata": {
      "needs_background": "light"
     },
     "output_type": "display_data"
    },
    {
     "data": {
      "image/png": "[encoded data removed]",
      "text/plain": [
       "<Figure size 288x288 with 1 Axes>"
      ]
     },
     "metadata": {
      "needs_background": "light"
     },
     "output_type": "display_data"
    },
    {
     "data": {
      "image/png": "[encoded data removed]",
      "text/plain": [
       "<Figure size 288x288 with 1 Axes>"
      ]
     },
     "metadata": {
      "needs_background": "light"
     },
     "output_type": "display_data"
    },
    {
     "data": {
      "image/png": "[encoded data removed]",
      "text/plain": [
       "<Figure size 288x288 with 1 Axes>"
      ]
     },
     "metadata": {
      "needs_background": "light"
     },
     "output_type": "display_data"
    },
    {
     "data": {
      "image/png": "[encoded data removed]",
      "text/plain": [
       "<Figure size 288x288 with 1 Axes>"
      ]
     },
     "metadata": {
      "needs_background": "light"
     },
     "output_type": "display_data"
    },
    {
     "data": {
      "image/png": "[encoded data removed]",
      "text/plain": [
       "<Figure size 288x288 with 1 Axes>"
      ]
     },
     "metadata": {
      "needs_background": "light"
     },
     "output_type": "display_data"
    },
    {
     "data": {
      "image/png": "[encoded data removed]",
      "text/plain": [
       "<Figure size 288x288 with 1 Axes>"
      ]
     },
     "metadata": {
      "needs_background": "light"
     },
     "output_type": "display_data"
    }
   ],
   "source": [
    "aa=generate_random_rectangles(10)\n",
    "for i in range(len(aa)):\n",
    "    plt.matshow(aa[i, 1, ...])"
   ]
  },
  {
   "cell_type": "code",
   "execution_count": null,
   "metadata": {},
   "outputs": [],
   "source": [
    "aa=generate_random_rectangles(10, image_size=(22, 22), largest_center=22)\n",
    "for i in range(len(aa)):\n",
    "    plt.matshow(aa[i, 1, ...])"
   ]
  },
  {
   "cell_type": "code",
   "execution_count": 10,
   "metadata": {},
   "outputs": [
    {
     "name": "stdout",
     "output_type": "stream",
     "text": [
      "0.0 percent finished\n",
      "0.1 percent finished\n",
      "0.2 percent finished\n",
      "0.3 percent finished\n",
      "0.4 percent finished\n",
      "0.5 percent finished\n",
      "0.6 percent finished\n",
      "0.7 percent finished\n",
      "0.8 percent finished\n",
      "0.9 percent finished\n",
      "0.0 percent finished\n",
      "0.1 percent finished\n",
      "0.2 percent finished\n",
      "0.3 percent finished\n",
      "0.4 percent finished\n",
      "0.5 percent finished\n",
      "0.6 percent finished\n",
      "0.7 percent finished\n",
      "0.8 percent finished\n",
      "0.9 percent finished\n"
     ]
    }
   ],
   "source": [
    "aa=generate_random_ellipses(5000)\n",
    "bb=generate_random_ellipses(5000)\n",
    "np.save(\"ellipses.npy\", aa)\n",
    "np.save(\"rectangles.npy\", bb)"
   ]
  },
  {
   "cell_type": "code",
   "execution_count": 49,
   "metadata": {},
   "outputs": [],
   "source": [
    "def draw_ellipse_solid(radii=(20, 20), t_rot=pi/4, \n",
    "                 grid=1000, boundary=(100, 100), background=0, foreground=1):\n",
    "    \n",
    "    # grid is how precise the ellipse would be : larger the better\n",
    "\n",
    "    # u, v: x, y-position of the center\n",
    "    u, v = (int(boundary[0]/2), int(boundary[1]/2))\n",
    "    \n",
    "    # a, b: radius on the x, y-axis\n",
    "    a, b = radii\n",
    "    \n",
    "    # x, y: the bounding box x, y-axis\n",
    "    x, y = boundary\n",
    "    \n",
    "    # t_rot: rotational angle, in radians\n",
    "\n",
    "    t = np.linspace(0, 2*pi, grid)\n",
    "    \n",
    "    Ell = np.array([a*np.cos(t) , b*np.sin(t)])  \n",
    "         #u,v removed to keep the same center location\n",
    "    \n",
    "    \n",
    "        \n",
    "    overall_image = np.ones((x, y)) * background\n",
    "    \n",
    "    \n",
    "    min_dict = {}\n",
    "    max_dict = {}\n",
    "    \n",
    "    for points in range(len(Ell[0,:])):\n",
    "        x_coord = int(round(Ell[0,:][points] + u))\n",
    "        y_coord = int(round(Ell[1,:][points] + v))\n",
    "        if x_coord < x and y_coord < y and x_coord >= 0 and y_coord >= 0:\n",
    "            overall_image[x_coord][y_coord] = foreground\n",
    "            \n",
    "            if x_coord not in min_dict:\n",
    "                min_dict[x_coord] = y_coord\n",
    "            else:\n",
    "                min_dict[x_coord] = min(y_coord, min_dict[x_coord])\n",
    "\n",
    "            if x_coord not in max_dict:\n",
    "                max_dict[x_coord] = y_coord\n",
    "            else:\n",
    "                max_dict[x_coord] = max(y_coord, max_dict[x_coord])\n",
    "            \n",
    "            \n",
    "    \n",
    "    for i in min_dict.keys():\n",
    "        for j in range(min_dict[i], max_dict[i]+1):\n",
    "            overall_image[i][j] = foreground\n",
    "            \n",
    "        \n",
    "    return overall_image"
   ]
  },
  {
   "cell_type": "code",
   "execution_count": 60,
   "metadata": {},
   "outputs": [],
   "source": [
    "def generate_random_ellipses_solid(num_samples, foreground=2, background=1e-5, magnitude=1,\n",
    "                             \n",
    "                             image_size=(23, 23), largest_center=22, largest_radii=11):\n",
    "    image_list = []\n",
    "    rand_centers = np.random.randint(1, largest_center, size=(num_samples, 2))\n",
    "    rand_radii = np.random.randint(1, largest_radii, size=(num_samples, 2))\n",
    "    rand_rot = np.random.rand((num_samples)) * 2*pi\n",
    "    for i in range(num_samples):\n",
    "        image_list.append(draw_ellipse_solid(radii = rand_radii[i], t_rot = rand_rot[i], \n",
    "                                       boundary = image_size, foreground = foreground, background = background))\n",
    "        if (10 * i) % num_samples == 0:\n",
    "            print(str(i / num_samples) + \" percent finished\")\n",
    "    images = np.array(image_list)\n",
    "    images = np.expand_dims(images, axis=1)\n",
    "    magnitudes = np.ones(images.shape) * magnitude\n",
    "    return np.concatenate((magnitudes, images), axis=1)"
   ]
  },
  {
   "cell_type": "code",
   "execution_count": 61,
   "metadata": {},
   "outputs": [
    {
     "name": "stdout",
     "output_type": "stream",
     "text": [
      "0.0 percent finished\n",
      "0.1 percent finished\n",
      "0.2 percent finished\n",
      "0.3 percent finished\n",
      "0.4 percent finished\n",
      "0.5 percent finished\n",
      "0.6 percent finished\n",
      "0.7 percent finished\n",
      "0.8 percent finished\n",
      "0.9 percent finished\n"
     ]
    },
    {
     "data": {
      "image/png": "[encoded data removed]",
      "text/plain": [
       "<Figure size 288x288 with 1 Axes>"
      ]
     },
     "metadata": {
      "needs_background": "light"
     },
     "output_type": "display_data"
    },
    {
     "data": {
      "image/png": "[encoded data removed]",
      "text/plain": [
       "<Figure size 288x288 with 1 Axes>"
      ]
     },
     "metadata": {
      "needs_background": "light"
     },
     "output_type": "display_data"
    },
    {
     "data": {
      "image/png": "[encoded data removed]",
      "text/plain": [
       "<Figure size 288x288 with 1 Axes>"
      ]
     },
     "metadata": {
      "needs_background": "light"
     },
     "output_type": "display_data"
    },
    {
     "data": {
      "image/png": "[encoded data removed]",
      "text/plain": [
       "<Figure size 288x288 with 1 Axes>"
      ]
     },
     "metadata": {
      "needs_background": "light"
     },
     "output_type": "display_data"
    },
    {
     "data": {
      "image/png": "[encoded data removed]",
      "text/plain": [
       "<Figure size 288x288 with 1 Axes>"
      ]
     },
     "metadata": {
      "needs_background": "light"
     },
     "output_type": "display_data"
    },
    {
     "data": {
      "image/png": "[encoded data removed]",
      "text/plain": [
       "<Figure size 288x288 with 1 Axes>"
      ]
     },
     "metadata": {
      "needs_background": "light"
     },
     "output_type": "display_data"
    },
    {
     "data": {
      "image/png": "[encoded data removed]",
      "text/plain": [
       "<Figure size 288x288 with 1 Axes>"
      ]
     },
     "metadata": {
      "needs_background": "light"
     },
     "output_type": "display_data"
    },
    {
     "data": {
      "image/png": "[encoded data removed]",
      "text/plain": [
       "<Figure size 288x288 with 1 Axes>"
      ]
     },
     "metadata": {
      "needs_background": "light"
     },
     "output_type": "display_data"
    },
    {
     "data": {
      "image/png": "[encoded data removed]",
      "text/plain": [
       "<Figure size 288x288 with 1 Axes>"
      ]
     },
     "metadata": {
      "needs_background": "light"
     },
     "output_type": "display_data"
    },
    {
     "data": {
      "image/png": "[encoded data removed]",
      "text/plain": [
       "<Figure size 288x288 with 1 Axes>"
      ]
     },
     "metadata": {
      "needs_background": "light"
     },
     "output_type": "display_data"
    }
   ],
   "source": [
    "aa=generate_random_ellipses_solid(10)\n",
    "for i in range(len(aa)):\n",
    "    plt.matshow(aa[i, 1, ...])"
   ]
  },
  {
   "cell_type": "code",
   "execution_count": 62,
   "metadata": {},
   "outputs": [],
   "source": [
    "def draw_rectangle_solid(length=(30, 20), t_rot=pi/4, \n",
    "                   grid=1000, boundary=(100, 100) , background=0, foreground=1):\n",
    "    \n",
    "    # grid is how precise the ellipse would be : larger the better\n",
    "\n",
    "    # u, v: x, y-position of the center\n",
    "    u, v = (int(boundary[0]/2), int(boundary[1]/2))\n",
    "    \n",
    "    # a, b: length on the x, y-axis\n",
    "    a, b = length\n",
    "    \n",
    "    # x, y: the bounding box x, y-axis\n",
    "    x, y = boundary\n",
    "    \n",
    "    # t_rot: rotational angle, in radians\n",
    "\n",
    "    t = np.ones(grid)\n",
    "    t1 = np.linspace(-1, 1, grid)\n",
    "    \n",
    "    \n",
    "    Ell = np.concatenate([np.array([a*t1 , b*t]), np.array([a*t , -1*b*t1]), np.array([-1*a*t , b*t1]), np.array([-1*a*t1 , -1*b*t])], axis=1)\n",
    "         #u,v removed to keep the same center location\n",
    "\n",
    "    \n",
    "        \n",
    "    overall_image = np.ones((x, y)) * background\n",
    "    \n",
    "    \n",
    "    min_dict = {}\n",
    "    max_dict = {}\n",
    "    \n",
    "    for points in range(len(Ell[0,:])):\n",
    "        x_coord = int(round(Ell[0,:][points] + u))\n",
    "        y_coord = int(round(Ell[1,:][points] + v))\n",
    "        if x_coord < x and y_coord < y and x_coord >= 0 and y_coord >= 0:\n",
    "            overall_image[x_coord][y_coord] = foreground\n",
    "            \n",
    "            if x_coord not in min_dict:\n",
    "                min_dict[x_coord] = y_coord\n",
    "            else:\n",
    "                min_dict[x_coord] = min(y_coord, min_dict[x_coord])\n",
    "\n",
    "            if x_coord not in max_dict:\n",
    "                max_dict[x_coord] = y_coord\n",
    "            else:\n",
    "                max_dict[x_coord] = max(y_coord, max_dict[x_coord])\n",
    "            \n",
    "            \n",
    "    \n",
    "    for i in min_dict.keys():\n",
    "        for j in range(min_dict[i], max_dict[i]+1):\n",
    "            overall_image[i][j] = foreground\n",
    "        \n",
    "    return overall_image"
   ]
  },
  {
   "cell_type": "code",
   "execution_count": 65,
   "metadata": {},
   "outputs": [],
   "source": [
    "def generate_random_rectangles_solid(num_samples, foreground=2, background=1e-5, magnitude=1,\n",
    "                             \n",
    "                             image_size=(23, 23), largest_center=22, largest_radii=10):\n",
    "    image_list = []\n",
    "    rand_centers = np.random.randint(1, largest_center, size=(num_samples, 2))\n",
    "    rand_radii = np.random.randint(1, largest_radii, size=(num_samples, 2))\n",
    "    rand_rot = np.random.rand((num_samples)) * 2*pi\n",
    "    for i in range(num_samples):\n",
    "        image_list.append(draw_rectangle_solid(length = rand_radii[i], t_rot = rand_rot[i], \n",
    "                                       boundary = image_size, foreground = foreground, background = background))\n",
    "        if (10 * i) % num_samples == 0:\n",
    "            print(str(i / num_samples) + \" percent finished\")\n",
    "    images = np.array(image_list)\n",
    "    images = np.expand_dims(images, axis=1)\n",
    "    magnitudes = np.ones(images.shape) * magnitude\n",
    "    return np.concatenate((magnitudes, images), axis=1)"
   ]
  },
  {
   "cell_type": "code",
   "execution_count": 66,
   "metadata": {},
   "outputs": [
    {
     "name": "stdout",
     "output_type": "stream",
     "text": [
      "0.0 percent finished\n",
      "0.1 percent finished\n",
      "0.2 percent finished\n",
      "0.3 percent finished\n",
      "0.4 percent finished\n",
      "0.5 percent finished\n",
      "0.6 percent finished\n",
      "0.7 percent finished\n",
      "0.8 percent finished\n",
      "0.9 percent finished\n"
     ]
    },
    {
     "data": {
      "image/png": "[encoded data removed]",
      "text/plain": [
       "<Figure size 288x288 with 1 Axes>"
      ]
     },
     "metadata": {
      "needs_background": "light"
     },
     "output_type": "display_data"
    },
    {
     "data": {
      "image/png": "[encoded data removed]",
      "text/plain": [
       "<Figure size 288x288 with 1 Axes>"
      ]
     },
     "metadata": {
      "needs_background": "light"
     },
     "output_type": "display_data"
    },
    {
     "data": {
      "image/png": "[encoded data removed]",
      "text/plain": [
       "<Figure size 288x288 with 1 Axes>"
      ]
     },
     "metadata": {
      "needs_background": "light"
     },
     "output_type": "display_data"
    },
    {
     "data": {
      "image/png": "[encoded data removed]",
      "text/plain": [
       "<Figure size 288x288 with 1 Axes>"
      ]
     },
     "metadata": {
      "needs_background": "light"
     },
     "output_type": "display_data"
    },
    {
     "data": {
      "image/png": "[encoded data removed]",
      "text/plain": [
       "<Figure size 288x288 with 1 Axes>"
      ]
     },
     "metadata": {
      "needs_background": "light"
     },
     "output_type": "display_data"
    },
    {
     "data": {
      "image/png": "[encoded data removed]",
      "text/plain": [
       "<Figure size 288x288 with 1 Axes>"
      ]
     },
     "metadata": {
      "needs_background": "light"
     },
     "output_type": "display_data"
    },
    {
     "data": {
      "image/png": "[encoded data removed]",
      "text/plain": [
       "<Figure size 288x288 with 1 Axes>"
      ]
     },
     "metadata": {
      "needs_background": "light"
     },
     "output_type": "display_data"
    },
    {
     "data": {
      "image/png": "[encoded data removed]",
      "text/plain": [
       "<Figure size 288x288 with 1 Axes>"
      ]
     },
     "metadata": {
      "needs_background": "light"
     },
     "output_type": "display_data"
    },
    {
     "data": {
      "image/png": "[encoded data removed]",
      "text/plain": [
       "<Figure size 288x288 with 1 Axes>"
      ]
     },
     "metadata": {
      "needs_background": "light"
     },
     "output_type": "display_data"
    },
    {
     "data": {
      "image/png": "[encoded data removed]",
      "text/plain": [
       "<Figure size 288x288 with 1 Axes>"
      ]
     },
     "metadata": {
      "needs_background": "light"
     },
     "output_type": "display_data"
    }
   ],
   "source": [
    "aa=generate_random_rectangles_solid(10, image_size=(22, 22), largest_center=22)\n",
    "for i in range(len(aa)):\n",
    "    plt.matshow(aa[i, 1, ...])"
   ]
  },
  {
   "cell_type": "code",
   "execution_count": 67,
   "metadata": {},
   "outputs": [
    {
     "name": "stdout",
     "output_type": "stream",
     "text": [
      "0.0 percent finished\n",
      "0.1 percent finished\n",
      "0.2 percent finished\n",
      "0.3 percent finished\n",
      "0.4 percent finished\n",
      "0.5 percent finished\n",
      "0.6 percent finished\n",
      "0.7 percent finished\n",
      "0.8 percent finished\n",
      "0.9 percent finished\n",
      "0.0 percent finished\n",
      "0.1 percent finished\n",
      "0.2 percent finished\n",
      "0.3 percent finished\n",
      "0.4 percent finished\n",
      "0.5 percent finished\n",
      "0.6 percent finished\n",
      "0.7 percent finished\n",
      "0.8 percent finished\n",
      "0.9 percent finished\n"
     ]
    }
   ],
   "source": [
    "aa=generate_random_ellipses_solid(5000)\n",
    "bb=generate_random_ellipses_solid(5000)\n",
    "np.save(\"ellipses.npy\", aa)\n",
    "np.save(\"rectangles.npy\", bb)"
   ]
  },
  {
   "cell_type": "code",
   "execution_count": null,
   "metadata": {},
   "outputs": [],
   "source": []
  }
 ],
 "metadata": {
  "kernelspec": {
   "display_name": "Python 3",
   "language": "python",
   "name": "python3"
  },
  "language_info": {
   "codemirror_mode": {
    "name": "ipython",
    "version": 3
   },
   "file_extension": ".py",
   "mimetype": "text/x-python",
   "name": "python",
   "nbconvert_exporter": "python",
   "pygments_lexer": "ipython3",
   "version": "3.5.2"
  }
 },
 "nbformat": 4,
 "nbformat_minor": 2
}
