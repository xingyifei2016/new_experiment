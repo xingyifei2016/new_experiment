{
 "cells": [
  {
   "cell_type": "code",
   "execution_count": 15,
   "metadata": {},
   "outputs": [],
   "source": [
    "from pdb import set_trace as st\n",
    "import re\n",
    "# import resnet_loader as r"
   ]
  },
  {
   "cell_type": "code",
   "execution_count": 16,
   "metadata": {},
   "outputs": [],
   "source": [
    "# data_preps1 = {'r_cos(theta)_sin(theta)': r.data_prep_baseline1, \\\n",
    "#               '(log(r+1), cos(theta),sin(theta))': r.data_prep_baseline4, \\\n",
    "#               '(log(r+0.1), cos(theta),sin(theta))': r.data_prep_baseline5}\n",
    "\n",
    "# data_preps2 = {'theta': r.data_prep_baseline6, \\\n",
    "#               'real_imag':r.data_prep_baseline2, \\\n",
    "#               'sqrt': r.data_prep_baseline3, \\\n",
    "#               \"r_theta\": r.data_prep_baseline}\n",
    "\n",
    "models = ['difference+tangent','tangent only','difference','tangent+difference','previous_architecture', 'ResNet', 'previous']"
   ]
  },
  {
   "cell_type": "code",
   "execution_count": 17,
   "metadata": {},
   "outputs": [],
   "source": [
    "def return_not_none(inputs):\n",
    "    for i in inputs:\n",
    "        if i is not None:\n",
    "            return i"
   ]
  },
  {
   "cell_type": "code",
   "execution_count": 21,
   "metadata": {},
   "outputs": [
    {
     "name": "stdout",
     "output_type": "stream",
     "text": [
      "46390 LR: 0.001 Split 0.1 LR: 0.001 Split 0.1 val: 70.34 test: 66.79132956800488\n",
      "LR: 0.0005 Split 0.1 LR: 0.0005 Split 0.1 val: 62.76 test: 61.34177988093421\n",
      "LR: 0.01 Split 0.1 LR: 0.01 Split 0.1 val: 82.07 test: 76.82033277362235\n",
      "LR: 0.005 Split 0.1 LR: 0.005 Split 0.1 val: 80.00 test: 76.01892840787666\n",
      "LR: 0.05 Split 0.1 LR: 0.05 Split 0.1 val: 80.69 test: 78.29339032208823\n",
      "LR: 0.001 Split 0.05 LR: 0.001 Split 0.05 val: 62.50 test: 55.36514822848879\n",
      "LR: 0.0005 Split 0.05 LR: 0.0005 Split 0.05 val: 69.44 test: 53.846710050614604\n",
      "LR: 0.01 Split 0.05 LR: 0.01 Split 0.05 val: 77.78 test: 65.84960231381055\n",
      "LR: 0.005 Split 0.05 LR: 0.005 Split 0.05 val: 68.06 test: 62.581344902386114\n",
      "LR: 0.05 Split 0.05 LR: 0.05 Split 0.05 val: 79.17 test: 65.15545914678236\n",
      "LR: 0.001 Split 0.01 LR: 0.001 Split 0.01 val: 43.57 test: 35.714285714285715\n",
      "{'0.05': 65.84960231381055, '0.1': 78.29339032208823, '0.01': 35.714285714285715}\n"
     ]
    }
   ],
   "source": [
    "key_argument = 'Split'\n",
    "filenames = ['2020-06-30-02:19:41.log']\n",
    "\n",
    "\n",
    "keywords = list(models)#[\"real_imag\", \"no log\", \"log\"]\n",
    "attributes_to_store = []\n",
    "# Find stuff according to the key argument\n",
    "\n",
    "\n",
    "\n",
    "for filename in filenames:\n",
    "    f = open(\"../log/\"+filename, \"r\")\n",
    "    result_dict = {}\n",
    "\n",
    "    final_res = {}\n",
    "\n",
    "    current_dataset = None\n",
    "    current_split = None\n",
    "    current_lr = None\n",
    "    testacc=0\n",
    "\n",
    "    for x in f:\n",
    "\n",
    "\n",
    "        a=[re.match(\".+\"+str(j), x) for j in keywords]\n",
    "\n",
    "        if any(a):\n",
    "            dataset=(return_not_none(a)).group(0)\n",
    "            data_info = re.split(r'\\s', dataset)\n",
    "            if data_info[-2] is not '':\n",
    "                data_info = data_info[-2]+data_info[-1]\n",
    "            else:\n",
    "                data_info = data_info[-1]\n",
    "            print(str(data_info), end = ' ')\n",
    "            current_dataset = str(data_info)\n",
    "            \n",
    "        elif re.match(\".+Test-.+\", x):\n",
    "            testacc=max(float(re.split(r'\\s', x)[-2]), testacc)\n",
    "            \n",
    "        elif re.match(\".+Parameters.+\", x):\n",
    "            print(int(re.split(r'\\s', x)[-2]), end=' ')\n",
    "\n",
    "        # If we find a split, then\n",
    "        if re.match(\".+\"+str(key_argument)+\".+\", x):\n",
    "            value = re.split(r'\\s', x)[-2]\n",
    "            print(\"Split \"+value, end=\" \")\n",
    "            if value not in result_dict.keys():\n",
    "                result_dict[value]=0\n",
    "            current_split = value\n",
    "\n",
    "\n",
    "        elif re.match(\".+\"+str(\"Learning Rate\")+\".+\", x):\n",
    "            lr = re.split(r'\\s', x)[-2]\n",
    "            print(\"LR: \"+str(lr), end = ' ')\n",
    "            current_lr = lr\n",
    "\n",
    "        elif re.match(\".+\"+str(\"Highest Testing Accuracy\")+\".+\", x):\n",
    "            accuracy = re.split(r'\\s', x)[-2]\n",
    "            print(\"val: {:0.2f}\".format(testacc), end=' ')\n",
    "            testacc=0\n",
    "            print(\"test: \"+str(accuracy))\n",
    "            result_dict[value] = max(float(accuracy), result_dict[value])\n",
    "            \n",
    "    accuracy = re.split(r'\\s', x)[-2]\n",
    "    print(\"val: {:0.2f}\".format(testacc), end=' ')\n",
    "    testacc=0\n",
    "    print(\"test: \"+str(accuracy))\n",
    "    result_dict[value] = max(float(accuracy), result_dict[value])\n",
    "            \n",
    "\n",
    "    print(result_dict)\n",
    "        \n"
   ]
  },
  {
   "cell_type": "code",
   "execution_count": null,
   "metadata": {},
   "outputs": [],
   "source": []
  },
  {
   "cell_type": "code",
   "execution_count": null,
   "metadata": {},
   "outputs": [],
   "source": []
  }
 ],
 "metadata": {
  "kernelspec": {
   "display_name": "Python 3",
   "language": "python",
   "name": "python3"
  },
  "language_info": {
   "codemirror_mode": {
    "name": "ipython",
    "version": 3
   },
   "file_extension": ".py",
   "mimetype": "text/x-python",
   "name": "python",
   "nbconvert_exporter": "python",
   "pygments_lexer": "ipython3",
   "version": "3.5.2"
  }
 },
 "nbformat": 4,
 "nbformat_minor": 2
}
